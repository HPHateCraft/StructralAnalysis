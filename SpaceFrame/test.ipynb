{
 "cells": [
  {
   "cell_type": "code",
   "execution_count": 17,
   "metadata": {},
   "outputs": [
    {
     "data": {
      "text/plain": [
       "tensor([ 0.0000,  0.0000,  0.3752,  0.0000, -0.1023,  0.0000],\n",
       "       dtype=torch.float64)"
      ]
     },
     "execution_count": 17,
     "metadata": {},
     "output_type": "execute_result"
    }
   ],
   "source": [
    "from Nodes import Nodes\n",
    "from Materials import Materials\n",
    "from Sections import Sections\n",
    "from LineElements import LineElements\n",
    "from TransMatrix import TransMatrix\n",
    "from StiffnessMatrix import StiffnessMatrix\n",
    "from Loads import Loads\n",
    "from Solver import Solver\n",
    "\n",
    "nodes = Nodes()\n",
    "nodes.addNodeCoord(0.0, 0.0, 0.0)\n",
    "nodes.addNodeCoord(6.0, 0.0, 0.0)\n",
    "    \n",
    "nodes.modifyDof(0, False, False, False, False, False, False)\n",
    "nodesCoord = nodes.getNodesCoord()\n",
    "\n",
    "\n",
    "materials = Materials()\n",
    "materials.addMaterial(33e6, 0.0)\n",
    "materialsProperties = materials.getMaterials()\n",
    "\n",
    "sections = Sections()\n",
    "sections.addRectSection(0.6, 0.2, materialsProperties, 0)\n",
    "getRectSections = sections.getRectSections()\n",
    "\n",
    "lineElements = LineElements()\n",
    "lineElements.addElement(nodesCoord, 0, 1, getRectSections, 0, 0)\n",
    "\n",
    "loads = Loads()\n",
    "loads.addDistForce(0, 0.0, 0.0, 0.0, 1.0, 1)\n",
    "\n",
    "loads.addDistMoment(0, 0.0, 0.0, 0.0, 1.0, 1)\n",
    "\n",
    "\n",
    "loads.addConcenForce(0, 100.0, 0.5, 6)\n",
    "loads.addConcenMoment(0, 0.0, 0.5, 1)\n",
    "\n",
    "solver = Solver(nodes, materials, sections, lineElements, TransMatrix(), StiffnessMatrix(), loads)\n",
    "\n",
    "solver.solve()\n"
   ]
  }
 ],
 "metadata": {
  "kernelspec": {
   "display_name": "Python 3",
   "language": "python",
   "name": "python3"
  },
  "language_info": {
   "codemirror_mode": {
    "name": "ipython",
    "version": 3
   },
   "file_extension": ".py",
   "mimetype": "text/x-python",
   "name": "python",
   "nbconvert_exporter": "python",
   "pygments_lexer": "ipython3",
   "version": "3.11.4"
  }
 },
 "nbformat": 4,
 "nbformat_minor": 2
}
